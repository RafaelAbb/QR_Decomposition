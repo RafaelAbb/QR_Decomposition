{
 "cells": [
  {
   "cell_type": "code",
   "execution_count": 42,
   "id": "61de7e01",
   "metadata": {},
   "outputs": [],
   "source": [
    "import numpy as np\n",
    "import time\n",
    "import os"
   ]
  },
  {
   "cell_type": "code",
   "execution_count": 43,
   "id": "1e5c2361",
   "metadata": {},
   "outputs": [
    {
     "name": "stdout",
     "output_type": "stream",
     "text": [
      "(100, 100) True\n",
      "(200, 200) True\n",
      "(400, 400) True\n",
      "(800, 800) True\n"
     ]
    }
   ],
   "source": [
    "current_path = os.getcwd()\n",
    "filename = os.path.join(current_path, \"matrix_100x100.csv\")\n",
    "matrix1 = np.genfromtxt(filename, delimiter=',').astype(np.float32)\n",
    "print(np.shape(matrix1),np.array_equal(matrix1, matrix1.T))\n",
    "\n",
    "filename = os.path.join(current_path, \"matrix_200x200.csv\")\n",
    "matrix2 = np.genfromtxt(filename, delimiter=',').astype(np.float32)\n",
    "print(np.shape(matrix2),np.array_equal(matrix2, matrix2.T))\n",
    "\n",
    "filename = os.path.join(current_path, \"matrix_400x400.csv\")\n",
    "matrix4 = np.genfromtxt(filename, delimiter=',').astype(np.float32)\n",
    "print(np.shape(matrix4),np.array_equal(matrix4, matrix4.T))\n",
    "\n",
    "filename = os.path.join(current_path, \"matrix_800x800.csv\")\n",
    "matrix8 = np.genfromtxt(filename, delimiter=',',).astype(np.float32)\n",
    "print(np.shape(matrix8),np.array_equal(matrix8, matrix8.T))"
   ]
  },
  {
   "cell_type": "code",
   "execution_count": 44,
   "id": "84d9c56e",
   "metadata": {},
   "outputs": [],
   "source": [
    "epsilon = 1e-8  # Using exponentiation\n",
    "MAX_ITERATIONS = 1000"
   ]
  },
  {
   "cell_type": "code",
   "execution_count": 45,
   "id": "ca315b84",
   "metadata": {},
   "outputs": [],
   "source": [
    "def norm(v):\n",
    "    return np.sqrt(np.dot(v,v))\n",
    "\n",
    "def normalize(v):\n",
    "    return v/norm(v)"
   ]
  },
  {
   "cell_type": "code",
   "execution_count": 46,
   "id": "a95c9782",
   "metadata": {},
   "outputs": [],
   "source": [
    "def qr_householder(A):\n",
    "    m, n = A.shape\n",
    "    R = A.astype(float)  # Avoid unnecessary copy, ensure mutability\n",
    "    Q = np.eye(m)\n",
    "\n",
    "    for i in range(n - 1):\n",
    "        # Compute the Householder vector\n",
    "        u = R[i:, i].copy()  # Work with a slice; make a copy to modify\n",
    "        alpha = norm(u)\n",
    "        u[0] -= alpha  # Create the Householder vector in place\n",
    "        norm_u = norm(u)\n",
    "\n",
    "        if norm_u != 0:  # Avoid division by zero\n",
    "            u /= norm_u\n",
    "\n",
    "            # Apply the reflection to R in place\n",
    "            R[i:, i:] -= 2 * np.outer(u, u @ R[i:, i:])\n",
    "            \n",
    "            # Apply the reflection to Q in place\n",
    "            Q[:, i:] -= 2 * np.outer(Q[:, i:] @ u, u)\n",
    "    return Q, R\n"
   ]
  },
  {
   "cell_type": "code",
   "execution_count": 47,
   "id": "4a159a15",
   "metadata": {},
   "outputs": [],
   "source": [
    "def createRQ(A):\n",
    "    Q, R = qr_householder(A)\n",
    "    B = np.matmul(R, Q)\n",
    "    return B, Q"
   ]
  },
  {
   "cell_type": "code",
   "execution_count": 48,
   "id": "96cea3c5",
   "metadata": {},
   "outputs": [],
   "source": [
    "def qr_algorithm_with_shifts(A, refeig=-1, sindex=-1):\n",
    "    # Compute the initial QR decomposition of A\n",
    "    B, Q = createRQ(A)\n",
    "    \n",
    "    n = 0  # Iteration counter\n",
    "    leig = B[refeig, refeig]  # Initial reference eigenvalue\n",
    "    diff = 1  # Difference tracker for convergence\n",
    "\n",
    "    # Iterate until the eigenvalues stabilize (very small difference)\n",
    "    while diff > epsilon and n < MAX_ITERATIONS:\n",
    "        shift = np.eye(len(B)) * B[sindex, sindex]  # Create shift matrix\n",
    "        C = B - shift  # Apply shift to B\n",
    "        B, Q = createRQ(C)  # Perform QR decomposition\n",
    "        \n",
    "        for i in range(len(B)): # Undo the shift\n",
    "            B[i, i] += shift[i, i]  \n",
    "\n",
    "        n += 1  # Count iterations\n",
    "        diff = abs(leig - B[refeig, refeig])  # Compute change in eigenvalue\n",
    "        leig = B[refeig, refeig]  # Update reference eigenvalue\n",
    "\n",
    "    # Extract eigenvalues (diagonal elements of B)\n",
    "    eigs = [B[i, i] for i in range(len(B))]\n",
    "    \n",
    "    # Extract eigenvectors (columns of Q)\n",
    "    eigv = [Q[:, i] for i in range(Q.shape[1])]\n",
    "    return eigs, eigv\n",
    "\n"
   ]
  },
  {
   "cell_type": "code",
   "execution_count": 49,
   "id": "405afaae",
   "metadata": {},
   "outputs": [],
   "source": [
    "matrix = matrix8"
   ]
  },
  {
   "cell_type": "code",
   "execution_count": null,
   "id": "d0263df0",
   "metadata": {},
   "outputs": [],
   "source": [
    "# Measure time for qr_shifts\n",
    "start_time = time.time()\n",
    "eigs_qr, eigv_qr = qr_algorithm_with_shifts(matrix)\n",
    "qr_time = time.time() - start_time\n",
    "print(f\"\\nExecution time for qr_shifts: {qr_time:.6f} seconds\")\n",
    "\n",
    "# Measure time for NumPy's eig function\n",
    "start_time = time.time()\n",
    "eigs_np, eigv_np = np.linalg.eig(matrix)\n",
    "np_time = time.time() - start_time\n",
    "print(f\"Execution time for np.linalg.eig: {np_time:.6f} seconds\")"
   ]
  },
  {
   "cell_type": "code",
   "execution_count": 41,
   "id": "60b6ae5e",
   "metadata": {},
   "outputs": [],
   "source": []
  }
 ],
 "metadata": {
  "kernelspec": {
   "display_name": "Python 3",
   "language": "python",
   "name": "python3"
  },
  "language_info": {
   "codemirror_mode": {
    "name": "ipython",
    "version": 3
   },
   "file_extension": ".py",
   "mimetype": "text/x-python",
   "name": "python",
   "nbconvert_exporter": "python",
   "pygments_lexer": "ipython3",
   "version": "3.9.0"
  }
 },
 "nbformat": 4,
 "nbformat_minor": 5
}
