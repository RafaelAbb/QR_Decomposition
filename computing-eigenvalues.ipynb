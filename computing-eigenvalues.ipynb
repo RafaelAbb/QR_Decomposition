{
 "cells": [
  {
   "cell_type": "code",
   "execution_count": 195,
   "id": "61de7e01",
   "metadata": {},
   "outputs": [],
   "source": [
    "import numpy as np\n",
    "import time\n",
    "import os"
   ]
  },
  {
   "cell_type": "code",
   "execution_count": 196,
   "id": "1e5c2361",
   "metadata": {},
   "outputs": [
    {
     "name": "stdout",
     "output_type": "stream",
     "text": [
      "(100, 100) True\n",
      "(200, 200) True\n",
      "(400, 400) True\n",
      "(800, 800) True\n"
     ]
    }
   ],
   "source": [
    "current_path = os.getcwd()\n",
    "filename = os.path.join(current_path, \"matrix_100x100.csv\")\n",
    "matrix1 = np.genfromtxt(filename, delimiter=',').astype(np.float32)\n",
    "print(np.shape(matrix1),np.array_equal(matrix1, matrix1.T))\n",
    "\n",
    "filename = os.path.join(current_path, \"matrix_200x200.csv\")\n",
    "matrix2 = np.genfromtxt(filename, delimiter=',').astype(np.float32)\n",
    "print(np.shape(matrix2),np.array_equal(matrix2, matrix2.T))\n",
    "\n",
    "filename = os.path.join(current_path, \"matrix_400x400.csv\")\n",
    "matrix4 = np.genfromtxt(filename, delimiter=',').astype(np.float32)\n",
    "print(np.shape(matrix4),np.array_equal(matrix4, matrix4.T))\n",
    "\n",
    "filename = os.path.join(current_path, \"matrix_800x800.csv\")\n",
    "matrix8 = np.genfromtxt(filename, delimiter=',',).astype(np.float32)\n",
    "print(np.shape(matrix8),np.array_equal(matrix8, matrix8.T))"
   ]
  },
  {
   "cell_type": "code",
   "execution_count": 197,
   "id": "84d9c56e",
   "metadata": {},
   "outputs": [],
   "source": [
    "EPSILON = 1e-8  # Using exponentiation\n",
    "MAX_ITERATIONS = 1000"
   ]
  },
  {
   "cell_type": "code",
   "execution_count": 198,
   "id": "ca315b84",
   "metadata": {},
   "outputs": [],
   "source": [
    "def norm(v):\n",
    "    return np.sqrt(np.dot(v,v))\n",
    "\n",
    "def normalize(v):\n",
    "    return v/norm(v)"
   ]
  },
  {
   "cell_type": "code",
   "execution_count": 199,
   "id": "a95c9782",
   "metadata": {},
   "outputs": [],
   "source": [
    "def qr_householder(A):\n",
    "    m, n = A.shape\n",
    "    R = A.astype(float)  # Avoid unnecessary copy, ensure mutability\n",
    "    Q = np.eye(m)\n",
    "\n",
    "    for i in range(n - 1):\n",
    "        # Compute the Householder vector\n",
    "        u = R[i:, i].copy()  # Work with a slice; make a copy to modify\n",
    "        alpha = norm(u)\n",
    "        u[0] -= alpha  # Create the Householder vector in place\n",
    "        norm_u = norm(u)\n",
    "\n",
    "        if norm_u != 0:  # Avoid division by zero\n",
    "            u /= norm_u\n",
    "\n",
    "            # Apply the reflection to R in place\n",
    "            R[i:, i:] -= 2 * np.outer(u, u @ R[i:, i:])\n",
    "            \n",
    "            # Apply the reflection to Q in place\n",
    "            Q[:, i:] -= 2 * np.outer(Q[:, i:] @ u, u)\n",
    "    return Q, R\n"
   ]
  },
  {
   "cell_type": "code",
   "execution_count": 260,
   "id": "f691d079",
   "metadata": {},
   "outputs": [],
   "source": [
    "def sum_lower_triangle(R, epsilon):\n",
    "    rows, cols = R.shape\n",
    "    sum = 0\n",
    "    for i in range(1, rows):  # Start from row 1 (skip diagonal)\n",
    "        for j in range(i):  # Only check lower triangle\n",
    "            if (R[i, j] > epsilon):\n",
    "                return epsilon + 100000000\n",
    "    return sum"
   ]
  },
  {
   "cell_type": "code",
   "execution_count": 254,
   "id": "96cea3c5",
   "metadata": {},
   "outputs": [],
   "source": [
    "def qr_algorithm_with_shifts(A, refeig=-1, sindex=-1, max_iterations=1000, epsilon = 1e-8):\n",
    "    # Compute the initial QR decomposition of A\n",
    "    \n",
    "    Ai = A\n",
    "    Q_total = np.eye(A.shape[0])\n",
    "    \n",
    "    \n",
    "    for i in range(max_iterations):\n",
    "        shift = Ai[refeig, sindex]\n",
    "        B = Ai.copy()\n",
    "        \n",
    "        for j in range(B.shape[0]): # Subtract the shift from the diagonal\n",
    "            B[j,j] -= shift\n",
    "        \n",
    "        Q, R = qr_householder(B)\n",
    " \n",
    "        Ai = R @ Q\n",
    "        for j in range(Ai.shape[0]): # Add the shift back to the diagonal\n",
    "            Ai[j,j] += shift\n",
    "\n",
    "        # Compute the total Q matrix (Q1 * Q2 * ... * Qi)\n",
    "        Q_total =  Q_total @ Q\n",
    "\n",
    "        convergence = sum_lower_triangle(Ai, epsilon)\n",
    "        print(f\"Iteration: {i} The dconvergence rate is: {convergence}\")\n",
    "        \n",
    "        if (convergence < epsilon):\n",
    "            print(f\"The matrix R is converged: \\n{R}\")\n",
    "            break\n",
    "        \n",
    "    #Return the diagnol of the matrix as eigen values and the total Q matrix as eigen vectors\n",
    "    return Ai.diagonal(), Q_total \n",
    "\n"
   ]
  },
  {
   "cell_type": "code",
   "execution_count": 202,
   "id": "9fba968a",
   "metadata": {},
   "outputs": [],
   "source": [
    "def qr_algorithm_recursive(A, max_iterations=1000, epsilon = 1e-8, iterations = 0):\n",
    "    # Compute the initial QR decomposition of A\n",
    "    if (iterations >= max_iterations):\n",
    "        throw(\"Max iterations reached\")\n",
    "    \n",
    "    Q, R = np.linalg.qr(A)\n",
    "    Aj = A # Save the previous iteration matrix\n",
    "    Ai = R @ Q\n",
    "    diff = norm(Aj.diagonal() - Ai.diagonal())\n",
    "    print(f\"Iteration: {iterations} The diff is: {diff}\")\n",
    "    \n",
    "    if (is_converged(Ai, epsilon) and diff < epsilon):\n",
    "        return Ai.diagonal(), Ai\n",
    "    else:\n",
    "        diag, Qt = qr_algorithm_recursive(Ai, max_iterations, epsilon, iterations+1)\n",
    "    return diag, Qt @ Q"
   ]
  },
  {
   "cell_type": "code",
   "execution_count": 203,
   "id": "29c2371a",
   "metadata": {},
   "outputs": [],
   "source": [
    "# def is_converged(A, epsilon):\n",
    "#     \"\"\"Check if the lower triangular part of A is close to zero.\"\"\"\n",
    "#     return np.all(np.abs(np.tril(A, k=-1)) < epsilon)\n",
    "\n",
    "# def qr_algorithm_recursive(A, max_iterations=1000, epsilon=1e-8, iterations=0, Q_accum=None):\n",
    "#     if iterations >= max_iterations:\n",
    "#         raise Exception(\"Max iterations reached\")\n",
    "\n",
    "#     Q, R = np.linalg.qr(A)  # Compute QR decomposition\n",
    "\n",
    "#     if Q_accum is None:\n",
    "#         Q_accum = Q  # Initialize Q accumulation\n",
    "#     else:\n",
    "#         Q_accum = Q_accum @ Q  # Accumulate Q for eigenvectors\n",
    "\n",
    "#     Ai = R @ Q  # Compute next matrix\n",
    "#     diff = norm(A.diagonal() - Ai.diagonal())\n",
    "\n",
    "#     #print(f\"Iteration {iterations}: diff = {diff}\")\n",
    "\n",
    "#     if is_converged(Ai, epsilon) and diff < epsilon:\n",
    "#         return Ai.diagonal(), Q_accum  # Eigenvalues and accumulated eigenvectors\n",
    "\n",
    "#     return qr_algorithm_recursive(Ai, max_iterations, epsilon, iterations+1, Q_accum)"
   ]
  },
  {
   "cell_type": "code",
   "execution_count": 258,
   "id": "405afaae",
   "metadata": {},
   "outputs": [],
   "source": [
    "matrix = matrix8"
   ]
  },
  {
   "cell_type": "code",
   "execution_count": 259,
   "id": "d0263df0",
   "metadata": {},
   "outputs": [
    {
     "name": "stdout",
     "output_type": "stream",
     "text": [
      "Iteration: 0 The dconvergence rate is: 47493.031653686354\n",
      "Iteration: 1 The dconvergence rate is: 40049.472992470735\n",
      "Iteration: 2 The dconvergence rate is: 35892.13171099673\n",
      "Iteration: 3 The dconvergence rate is: 32826.90342868937\n",
      "Iteration: 4 The dconvergence rate is: 30386.968320916072\n",
      "Iteration: 5 The dconvergence rate is: 28395.383680247778\n",
      "Iteration: 6 The dconvergence rate is: 26728.56087963264\n",
      "Iteration: 7 The dconvergence rate is: 25304.349884641226\n",
      "Iteration: 8 The dconvergence rate is: 24068.415548844914\n",
      "Iteration: 9 The dconvergence rate is: 22986.43327655184\n",
      "Iteration: 10 The dconvergence rate is: 22027.238662784344\n",
      "Iteration: 11 The dconvergence rate is: 21169.519891370517\n",
      "Iteration: 12 The dconvergence rate is: 20399.612819803388\n",
      "Iteration: 13 The dconvergence rate is: 19703.398082685548\n",
      "Iteration: 14 The dconvergence rate is: 19072.695299463616\n",
      "Iteration: 15 The dconvergence rate is: 18489.490287051718\n",
      "Iteration: 16 The dconvergence rate is: 17946.768973124043\n",
      "Iteration: 17 The dconvergence rate is: 17442.176379023804\n",
      "Iteration: 18 The dconvergence rate is: 16975.84298338225\n",
      "Iteration: 19 The dconvergence rate is: 16544.183408925965\n",
      "Iteration: 20 The dconvergence rate is: 16141.299600547434\n",
      "Iteration: 21 The dconvergence rate is: 15767.37462731772\n",
      "Iteration: 22 The dconvergence rate is: 15418.785791327071\n",
      "Iteration: 23 The dconvergence rate is: 15090.8625227407\n",
      "Iteration: 24 The dconvergence rate is: 14780.85266375208\n",
      "Iteration: 25 The dconvergence rate is: 14487.173729755907\n",
      "Iteration: 26 The dconvergence rate is: 14206.954927986666\n"
     ]
    },
    {
     "ename": "KeyboardInterrupt",
     "evalue": "",
     "output_type": "error",
     "traceback": [
      "\u001b[1;31m---------------------------------------------------------------------------\u001b[0m",
      "\u001b[1;31mKeyboardInterrupt\u001b[0m                         Traceback (most recent call last)",
      "Cell \u001b[1;32mIn[259], line 3\u001b[0m\n\u001b[0;32m      1\u001b[0m \u001b[38;5;66;03m# Measure time for qr_shifts\u001b[39;00m\n\u001b[0;32m      2\u001b[0m start_time \u001b[38;5;241m=\u001b[39m time\u001b[38;5;241m.\u001b[39mtime()\n\u001b[1;32m----> 3\u001b[0m eigs_qr, eigv_qr \u001b[38;5;241m=\u001b[39m \u001b[43mqr_algorithm_with_shifts\u001b[49m\u001b[43m(\u001b[49m\u001b[43mmatrix\u001b[49m\u001b[43m,\u001b[49m\u001b[43m \u001b[49m\u001b[43mmax_iterations\u001b[49m\u001b[38;5;241;43m=\u001b[39;49m\u001b[43mMAX_ITERATIONS\u001b[49m\u001b[43m,\u001b[49m\u001b[43m \u001b[49m\u001b[43mepsilon\u001b[49m\u001b[43m \u001b[49m\u001b[38;5;241;43m=\u001b[39;49m\u001b[43m \u001b[49m\u001b[43mEPSILON\u001b[49m\u001b[43m)\u001b[49m\n\u001b[0;32m      4\u001b[0m qr_time \u001b[38;5;241m=\u001b[39m time\u001b[38;5;241m.\u001b[39mtime() \u001b[38;5;241m-\u001b[39m start_time\n\u001b[0;32m      5\u001b[0m \u001b[38;5;28mprint\u001b[39m(\u001b[38;5;124mf\u001b[39m\u001b[38;5;124m\"\u001b[39m\u001b[38;5;130;01m\\n\u001b[39;00m\u001b[38;5;124mExecution time for qr_shifts: \u001b[39m\u001b[38;5;132;01m{\u001b[39;00mqr_time\u001b[38;5;132;01m:\u001b[39;00m\u001b[38;5;124m.6f\u001b[39m\u001b[38;5;132;01m}\u001b[39;00m\u001b[38;5;124m seconds\u001b[39m\u001b[38;5;124m\"\u001b[39m)\n",
      "Cell \u001b[1;32mIn[254], line 15\u001b[0m, in \u001b[0;36mqr_algorithm_with_shifts\u001b[1;34m(A, refeig, sindex, max_iterations, epsilon)\u001b[0m\n\u001b[0;32m     12\u001b[0m \u001b[38;5;28;01mfor\u001b[39;00m j \u001b[38;5;129;01min\u001b[39;00m \u001b[38;5;28mrange\u001b[39m(B\u001b[38;5;241m.\u001b[39mshape[\u001b[38;5;241m0\u001b[39m]): \u001b[38;5;66;03m# Subtract the shift from the diagonal\u001b[39;00m\n\u001b[0;32m     13\u001b[0m     B[j,j] \u001b[38;5;241m-\u001b[39m\u001b[38;5;241m=\u001b[39m shift\n\u001b[1;32m---> 15\u001b[0m Q, R \u001b[38;5;241m=\u001b[39m \u001b[43mqr_householder\u001b[49m\u001b[43m(\u001b[49m\u001b[43mB\u001b[49m\u001b[43m)\u001b[49m\n\u001b[0;32m     17\u001b[0m Ai \u001b[38;5;241m=\u001b[39m R \u001b[38;5;241m@\u001b[39m Q\n\u001b[0;32m     18\u001b[0m \u001b[38;5;28;01mfor\u001b[39;00m j \u001b[38;5;129;01min\u001b[39;00m \u001b[38;5;28mrange\u001b[39m(Ai\u001b[38;5;241m.\u001b[39mshape[\u001b[38;5;241m0\u001b[39m]): \u001b[38;5;66;03m# Add the shift back to the diagonal\u001b[39;00m\n",
      "Cell \u001b[1;32mIn[199], line 20\u001b[0m, in \u001b[0;36mqr_householder\u001b[1;34m(A)\u001b[0m\n\u001b[0;32m     17\u001b[0m         R[i:, i:] \u001b[38;5;241m-\u001b[39m\u001b[38;5;241m=\u001b[39m \u001b[38;5;241m2\u001b[39m \u001b[38;5;241m*\u001b[39m np\u001b[38;5;241m.\u001b[39mouter(u, u \u001b[38;5;241m@\u001b[39m R[i:, i:])\n\u001b[0;32m     19\u001b[0m         \u001b[38;5;66;03m# Apply the reflection to Q in place\u001b[39;00m\n\u001b[1;32m---> 20\u001b[0m         Q[:, i:] \u001b[38;5;241m-\u001b[39m\u001b[38;5;241m=\u001b[39m \u001b[38;5;241m2\u001b[39m \u001b[38;5;241m*\u001b[39m \u001b[43mnp\u001b[49m\u001b[38;5;241;43m.\u001b[39;49m\u001b[43mouter\u001b[49m\u001b[43m(\u001b[49m\u001b[43mQ\u001b[49m\u001b[43m[\u001b[49m\u001b[43m:\u001b[49m\u001b[43m,\u001b[49m\u001b[43m \u001b[49m\u001b[43mi\u001b[49m\u001b[43m:\u001b[49m\u001b[43m]\u001b[49m\u001b[43m \u001b[49m\u001b[38;5;241;43m@\u001b[39;49m\u001b[43m \u001b[49m\u001b[43mu\u001b[49m\u001b[43m,\u001b[49m\u001b[43m \u001b[49m\u001b[43mu\u001b[49m\u001b[43m)\u001b[49m\n\u001b[0;32m     21\u001b[0m \u001b[38;5;28;01mreturn\u001b[39;00m Q, R\n",
      "File \u001b[1;32mc:\\Users\\rafae\\AppData\\Local\\Programs\\Python\\Python39\\lib\\site-packages\\numpy\\_core\\numeric.py:971\u001b[0m, in \u001b[0;36mouter\u001b[1;34m(a, b, out)\u001b[0m\n\u001b[0;32m    969\u001b[0m a \u001b[38;5;241m=\u001b[39m asarray(a)\n\u001b[0;32m    970\u001b[0m b \u001b[38;5;241m=\u001b[39m asarray(b)\n\u001b[1;32m--> 971\u001b[0m \u001b[38;5;28;01mreturn\u001b[39;00m \u001b[43mmultiply\u001b[49m\u001b[43m(\u001b[49m\u001b[43ma\u001b[49m\u001b[38;5;241;43m.\u001b[39;49m\u001b[43mravel\u001b[49m\u001b[43m(\u001b[49m\u001b[43m)\u001b[49m\u001b[43m[\u001b[49m\u001b[43m:\u001b[49m\u001b[43m,\u001b[49m\u001b[43m \u001b[49m\u001b[43mnewaxis\u001b[49m\u001b[43m]\u001b[49m\u001b[43m,\u001b[49m\u001b[43m \u001b[49m\u001b[43mb\u001b[49m\u001b[38;5;241;43m.\u001b[39;49m\u001b[43mravel\u001b[49m\u001b[43m(\u001b[49m\u001b[43m)\u001b[49m\u001b[43m[\u001b[49m\u001b[43mnewaxis\u001b[49m\u001b[43m,\u001b[49m\u001b[43m \u001b[49m\u001b[43m:\u001b[49m\u001b[43m]\u001b[49m\u001b[43m,\u001b[49m\u001b[43m \u001b[49m\u001b[43mout\u001b[49m\u001b[43m)\u001b[49m\n",
      "\u001b[1;31mKeyboardInterrupt\u001b[0m: "
     ]
    }
   ],
   "source": [
    "# Measure time for qr_shifts\n",
    "start_time = time.time()\n",
    "eigs_qr, eigv_qr = qr_algorithm_with_shifts(matrix, max_iterations=MAX_ITERATIONS, epsilon = EPSILON)\n",
    "qr_time = time.time() - start_time\n",
    "print(f\"\\nExecution time for qr_shifts: {qr_time:.6f} seconds\")\n",
    "\n",
    "# Measure time for NumPy's eig function\n",
    "start_time = time.time()\n",
    "eigs_np, eigv_np = np.linalg.eig(matrix)\n",
    "np_time = time.time() - start_time\n",
    "print(f\"Execution time for np.linalg.eig: {np_time:.6f} seconds\")"
   ]
  },
  {
   "cell_type": "code",
   "execution_count": 256,
   "id": "74c2fdac",
   "metadata": {},
   "outputs": [
    {
     "name": "stdout",
     "output_type": "stream",
     "text": [
      "\n",
      "Eigenvalues from qr_shifts:\n",
      "[-0.16424794  4.39138238  2.77286556]\n",
      "Eigenvalues from np.linalg.eig:\n",
      "[-0.16424794  2.77286556  4.39138238]\n",
      "\n",
      "Eigenvectors from qr_shifts:\n",
      "[[ 0.2260912  -0.48280128 -0.84604119]\n",
      " [ 0.6611152  -0.56181831  0.49727948]\n",
      " [-0.7154086  -0.6717612   0.19216509]]\n",
      "Eigenvectors from np.linalg.eig:\n",
      "[[ 0.2260912  -0.84604119 -0.48280128]\n",
      " [ 0.6611152   0.49727948 -0.56181831]\n",
      " [-0.7154086   0.19216509 -0.6717612 ]]\n",
      "\n",
      "Eigenvectors difference: 4.440892098500626e-16\n"
     ]
    }
   ],
   "source": [
    "print(f\"\\nEigenvalues from qr_shifts:\\n{eigs_qr}\")\n",
    "print(f\"Eigenvalues from np.linalg.eig:\\n{eigs_np}\")\n",
    "print(f\"\\nEigenvectors from qr_shifts:\\n{eigv_qr}\")\n",
    "print(f\"Eigenvectors from np.linalg.eig:\\n{eigv_np}\")\n",
    "\n",
    "print(f\"\\nEigenvectors difference: {np.linalg.norm(eigv_qr) - np.linalg.norm(eigv_np)}\")\n"
   ]
  },
  {
   "cell_type": "code",
   "execution_count": 257,
   "id": "473ec84e",
   "metadata": {},
   "outputs": [
    {
     "name": "stdout",
     "output_type": "stream",
     "text": [
      "[[ 3.75914742e-09 -1.76402226e-09 -2.08322248e-12]\n",
      " [ 4.37438517e-09 -5.14537479e-09 -2.42272868e-12]\n",
      " [ 5.23041051e-09  5.57108004e-09 -2.89723801e-12]]\n",
      "\n",
      "[[ 8.95117314e-16 -4.44089210e-16 -4.44089210e-16]\n",
      " [ 0.00000000e+00  2.22044605e-16 -8.88178420e-16]\n",
      " [ 7.91033905e-16 -1.11022302e-16  0.00000000e+00]]\n"
     ]
    }
   ],
   "source": [
    "es = np.array(eigs_qr)\n",
    "ev = np.array(eigv_qr)\n",
    "print(matrix @ ev - ev * es)\n",
    "print()\n",
    "print(matrix @ eigv_np - eigv_np * eigs_np)"
   ]
  }
 ],
 "metadata": {
  "kernelspec": {
   "display_name": "Python 3",
   "language": "python",
   "name": "python3"
  },
  "language_info": {
   "codemirror_mode": {
    "name": "ipython",
    "version": 3
   },
   "file_extension": ".py",
   "mimetype": "text/x-python",
   "name": "python",
   "nbconvert_exporter": "python",
   "pygments_lexer": "ipython3",
   "version": "3.9.0"
  }
 },
 "nbformat": 4,
 "nbformat_minor": 5
}
