{
 "cells": [
  {
   "cell_type": "code",
   "execution_count": 52,
   "id": "61de7e01",
   "metadata": {},
   "outputs": [],
   "source": [
    "import numpy as np\n",
    "import time\n",
    "import os"
   ]
  },
  {
   "cell_type": "code",
   "execution_count": 53,
   "id": "1e5c2361",
   "metadata": {},
   "outputs": [
    {
     "name": "stdout",
     "output_type": "stream",
     "text": [
      "(100, 100)"
     ]
    },
    {
     "name": "stdout",
     "output_type": "stream",
     "text": [
      " True\n",
      "(200, 200) True\n",
      "(400, 400) True\n",
      "(800, 800) True\n"
     ]
    }
   ],
   "source": [
    "current_path = os.getcwd()\n",
    "filename = os.path.join(current_path, \"matrix_100x100.csv\")\n",
    "matrix1 = np.genfromtxt(filename, delimiter=',').astype(np.float32)\n",
    "print(np.shape(matrix1),np.array_equal(matrix1, matrix1.T))\n",
    "\n",
    "filename = os.path.join(current_path, \"matrix_200x200.csv\")\n",
    "matrix2 = np.genfromtxt(filename, delimiter=',').astype(np.float32)\n",
    "print(np.shape(matrix2),np.array_equal(matrix2, matrix2.T))\n",
    "\n",
    "filename = os.path.join(current_path, \"matrix_400x400.csv\")\n",
    "matrix4 = np.genfromtxt(filename, delimiter=',').astype(np.float32)\n",
    "print(np.shape(matrix4),np.array_equal(matrix4, matrix4.T))\n",
    "\n",
    "filename = os.path.join(current_path, \"matrix_800x800.csv\")\n",
    "matrix8 = np.genfromtxt(filename, delimiter=',',).astype(np.float32)\n",
    "print(np.shape(matrix8),np.array_equal(matrix8, matrix8.T))"
   ]
  },
  {
   "cell_type": "code",
   "execution_count": 54,
   "id": "84d9c56e",
   "metadata": {},
   "outputs": [],
   "source": [
    "EPSILON = 1e-8  # Using exponentiation\n",
    "MAX_ITERATIONS = 1000"
   ]
  },
  {
   "cell_type": "code",
   "execution_count": 55,
   "id": "ca315b84",
   "metadata": {},
   "outputs": [],
   "source": [
    "def norm(v):\n",
    "    return np.sqrt(np.dot(v,v))\n",
    "\n",
    "def normalize(v):\n",
    "    return v/norm(v)"
   ]
  },
  {
   "cell_type": "code",
   "execution_count": 56,
   "id": "a95c9782",
   "metadata": {},
   "outputs": [],
   "source": [
    "def qr_householder(A):\n",
    "    m, n = A.shape\n",
    "    R = A.astype(float)  # Avoid unnecessary copy, ensure mutability\n",
    "    Q = np.eye(m)\n",
    "\n",
    "    for i in range(n - 1):\n",
    "        # Compute the Householder vector\n",
    "        u = R[i:, i].copy()  # Work with a slice; make a copy to modify\n",
    "        alpha = norm(u)\n",
    "        u[0] -= alpha  # Create the Householder vector in place\n",
    "        norm_u = norm(u)\n",
    "\n",
    "        if norm_u != 0:  # Avoid division by zero\n",
    "            u /= norm_u\n",
    "\n",
    "            # Apply the reflection to R in place\n",
    "            R[i:, i:] -= 2 * np.outer(u, u @ R[i:, i:])\n",
    "            \n",
    "            # Apply the reflection to Q in place\n",
    "            Q[:, i:] -= 2 * np.outer(Q[:, i:] @ u, u)\n",
    "    return Q, R\n"
   ]
  },
  {
   "cell_type": "code",
   "execution_count": 57,
   "id": "f691d079",
   "metadata": {},
   "outputs": [],
   "source": [
    "def sum_lower_triangle(R, epsilon):\n",
    "    rows, cols = R.shape\n",
    "    sum = 0\n",
    "    for i in range(1, rows):  # Start from row 1 (skip diagonal)\n",
    "        for j in range(i):  # Only check lower triangle\n",
    "            sum += abs(R[i, j])\n",
    "    return sum"
   ]
  },
  {
   "cell_type": "code",
   "execution_count": 58,
   "id": "96cea3c5",
   "metadata": {},
   "outputs": [],
   "source": [
    "\n",
    "def wilkinson_shift(A):\n",
    "    \"\"\"Computes the Wilkinson shift for better convergence.\"\"\"\n",
    "    d = (A[-2, -2] - A[-1, -1]) / 2\n",
    "    mu = A[-1, -1] - np.sign(d) * (A[-1, -2] ** 2) / (abs(d) + np.sqrt(d**2 + A[-1, -2]**2))\n",
    "    return mu\n",
    "\n",
    "def qr_algorithm_with_shifts(A, max_iterations=1000, epsilon=1e-8):\n",
    "    \"\"\"Optimized iterative QR algorithm with shifts to find eigenvalues and eigenvectors.\"\"\"\n",
    "    \n",
    "    Ai = A.copy()\n",
    "    Q_total = np.eye(A.shape[0])  # Initialize Q accumulation\n",
    "\n",
    "    for i in range(max_iterations):\n",
    "        shift = wilkinson_shift(Ai)  # Compute optimal shift\n",
    "        np.fill_diagonal(Ai, np.diagonal(Ai) - shift)  # Subtract shift from diagonal\n",
    "\n",
    "        Q, R = qr_householder(Ai)  # QR decomposition\n",
    "        Ai = R @ Q  # Compute next matrix\n",
    "        np.fill_diagonal(Ai, np.diagonal(Ai) + shift)  # Add shift back\n",
    "\n",
    "        Q_total @= Q  # In-place accumulation of Q\n",
    "\n",
    "        # Check convergence\n",
    "        convergence = sum_lower_triangle(Ai)\n",
    "\n",
    "        print(f\"Iteration {i}: Convergence = {convergence}\")\n",
    "\n",
    "        if convergence < epsilon:\n",
    "            print(f\"Converged after {i} iterations:\\n{Ai}\")\n",
    "            return Ai.diagonal(), Q_total  # Eigenvalues and eigenvectors\n",
    "    \n",
    "    raise Exception(\"Max iterations reached without convergence\")"
   ]
  },
  {
   "cell_type": "code",
   "execution_count": 59,
   "id": "29c2371a",
   "metadata": {},
   "outputs": [],
   "source": [
    "# def is_converged(A, epsilon):\n",
    "#     \"\"\"Check if the lower triangular part of A is close to zero.\"\"\"\n",
    "#     return np.all(np.abs(np.tril(A, k=-1)) < epsilon)\n",
    "\n",
    "# def qr_algorithm_recursive(A, max_iterations=1000, epsilon=1e-8, iterations=0, Q_accum=None):\n",
    "#     if iterations >= max_iterations:\n",
    "#         raise Exception(\"Max iterations reached\")\n",
    "\n",
    "#     Q, R = np.linalg.qr(A)  # Compute QR decomposition\n",
    "\n",
    "#     if Q_accum is None:\n",
    "#         Q_accum = Q  # Initialize Q accumulation\n",
    "#     else:\n",
    "#         Q_accum = Q_accum @ Q  # Accumulate Q for eigenvectors\n",
    "\n",
    "#     Ai = R @ Q  # Compute next matrix\n",
    "#     diff = norm(A.diagonal() - Ai.diagonal())\n",
    "\n",
    "#     #print(f\"Iteration {iterations}: diff = {diff}\")\n",
    "\n",
    "#     if is_converged(Ai, epsilon) and diff < epsilon:\n",
    "#         return Ai.diagonal(), Q_accum  # Eigenvalues and accumulated eigenvectors\n",
    "\n",
    "#     return qr_algorithm_recursive(Ai, max_iterations, epsilon, iterations+1, Q_accum)"
   ]
  },
  {
   "cell_type": "code",
   "execution_count": 60,
   "id": "405afaae",
   "metadata": {},
   "outputs": [],
   "source": [
    "test = np.array([[3,0,1],\n",
    "                   [0,2,2],\n",
    "                   [1,2,2]])"
   ]
  },
  {
   "cell_type": "code",
   "execution_count": 61,
   "id": "f2fbee87",
   "metadata": {},
   "outputs": [],
   "source": [
    "def sum_lower_triangle(A):\n",
    "    \"\"\"Computes the sum of absolute values in the lower triangle (excluding diagonal).\"\"\"\n",
    "    return np.sum(np.abs(np.tril(A, k=-1)))\n",
    "\n",
    "def wilkinson_shift(A):\n",
    "    \"\"\"Computes the Wilkinson shift for better convergence.\"\"\"\n",
    "    d = (A[-2, -2] - A[-1, -1]) / 2\n",
    "    mu = A[-1, -1] - np.sign(d) * (A[-1, -2] ** 2) / (abs(d) + np.sqrt(d**2 + A[-1, -2]**2))\n",
    "    return mu\n",
    "\n",
    "def qr_algorithm_with_shifts_recursive(A, max_iterations=1000, epsilon=1e-8, iterations=0, Q_total=None):\n",
    "    \"\"\"Recursive QR algorithm with shifts to find eigenvalues and eigenvectors.\"\"\"\n",
    "    \n",
    "    if iterations >= max_iterations:\n",
    "        raise Exception(\"Max iterations reached\")\n",
    "\n",
    "    if Q_total is None:\n",
    "        Q_total = np.eye(A.shape[0])  # Initialize Q accumulation\n",
    "    \n",
    "    shift = wilkinson_shift(A)  # Compute optimal shift\n",
    "    B = A - np.eye(A.shape[0]) * shift  # Vectorized diagonal subtraction\n",
    "    \n",
    "    Q, R = qr_householder(B)  # Compute QR decomposition\n",
    "    Ai = R @ Q + np.eye(A.shape[0]) * shift  # Compute next matrix (add shift back)\n",
    "    \n",
    "    # Accumulate eigenvector transformations\n",
    "    Q_total = Q_total @ Q\n",
    "\n",
    "    # Compute convergence using sum of lower triangle elements\n",
    "    convergence = sum_lower_triangle(Ai)\n",
    "\n",
    "    print(f\"Iteration {iterations}: Convergence = {convergence}\")\n",
    "\n",
    "    if convergence < epsilon:\n",
    "        print(f\"Converged after {iterations} iterations:\\n{Ai}\")\n",
    "        return Ai.diagonal(), Q_total  # Return eigenvalues and eigenvectors\n",
    "\n",
    "    return qr_algorithm_with_shifts_recursive(Ai, max_iterations, epsilon, iterations + 1, Q_total)\n"
   ]
  },
  {
   "cell_type": "code",
   "execution_count": 62,
   "id": "7d15cecd",
   "metadata": {},
   "outputs": [],
   "source": [
    "matrix = matrix8"
   ]
  },
  {
   "cell_type": "code",
   "execution_count": null,
   "id": "7f3979e2",
   "metadata": {},
   "outputs": [],
   "source": [
    "# Measure time for qr_shifts\n",
    "start_time = time.time()\n",
    "eigs_qr, eigv_qr = qr_algorithm_with_shifts(test, max_iterations=MAX_ITERATIONS, epsilon = EPSILON)\n",
    "qr_time = time.time() - start_time\n",
    "print(f\"\\nExecution time for qr_shifts: {qr_time:.6f} seconds\")\n",
    "\n",
    "# Measure time for NumPy's eig function\n",
    "start_time = time.time()\n",
    "eigs_np, eigv_np = np.linalg.eig(test)\n",
    "np_time = time.time() - start_time\n",
    "print(f\"Execution time for np.linalg.eig: {np_time:.6f} seconds\")\n",
    "\n",
    "es = np.array(eigs_qr)\n",
    "ev = np.array(eigv_qr)\n",
    "print(test @ ev - ev * es)\n",
    "print()\n",
    "print(test @ eigv_np - eigv_np * eigs_np)\n",
    "\n"
   ]
  },
  {
   "cell_type": "code",
   "execution_count": null,
   "id": "d0263df0",
   "metadata": {},
   "outputs": [
    {
     "name": "stdout",
     "output_type": "stream",
     "text": [
      "Iteration 0: Convergence = 47377.02775831183\n",
      "Iteration 1: Convergence = 39821.794733839095\n",
      "Iteration 2: Convergence = 35593.805122992926\n",
      "Iteration 3: Convergence = 32487.408600880386\n",
      "Iteration 4: Convergence = 30021.904610225512\n",
      "Iteration 5: Convergence = 28008.523005657204\n",
      "Iteration 6: Convergence = 26313.048585573688\n",
      "Iteration 7: Convergence = 24868.42945686274\n",
      "Iteration 8: Convergence = 23617.27675604734\n",
      "Iteration 9: Convergence = 22521.675760500257\n",
      "Iteration 10: Convergence = 21551.235929055885\n",
      "Iteration 11: Convergence = 20691.178054966425\n",
      "Iteration 12: Convergence = 19922.59764570124\n",
      "Iteration 13: Convergence = 19228.52431355304\n",
      "Iteration 14: Convergence = 18589.637309434707\n",
      "Iteration 15: Convergence = 18001.12818749142\n",
      "Iteration 16: Convergence = 17461.894931078477\n",
      "Iteration 17: Convergence = 16966.465421411656\n",
      "Iteration 18: Convergence = 16507.479228901557\n",
      "Iteration 19: Convergence = 16078.688348497357\n",
      "Iteration 20: Convergence = 15678.207785559194\n",
      "Iteration 21: Convergence = 15304.39408500947\n"
     ]
    }
   ],
   "source": [
    "# Measure time for qr_shifts\n",
    "start_time = time.time()\n",
    "eigs_qr, eigv_qr = qr_algorithm_with_shifts(matrix, max_iterations=MAX_ITERATIONS, epsilon = EPSILON)\n",
    "qr_time = time.time() - start_time\n",
    "print(f\"\\nExecution time for qr_shifts: {qr_time:.6f} seconds\")\n",
    "\n",
    "# Measure time for NumPy's eig function\n",
    "start_time = time.time()\n",
    "eigs_np, eigv_np = np.linalg.eig(matrix)\n",
    "np_time = time.time() - start_time\n",
    "print(f\"Execution time for np.linalg.eig: {np_time:.6f} seconds\")"
   ]
  },
  {
   "cell_type": "code",
   "execution_count": 47,
   "id": "74c2fdac",
   "metadata": {},
   "outputs": [
    {
     "name": "stdout",
     "output_type": "stream",
     "text": [
      "\n",
      "Eigenvalues from qr_shifts:\n",
      "[-2.16424794  2.39138238  0.77286556]\n",
      "Eigenvalues from np.linalg.eig:\n",
      "[-2.16424794  0.77286556  2.39138238]\n",
      "\n",
      "Eigenvectors from qr_shifts:\n",
      "[[-0.2260912  -0.48280128  0.84604119]\n",
      " [-0.6611152  -0.56181831 -0.49727948]\n",
      " [ 0.7154086  -0.6717612  -0.19216509]]\n",
      "Eigenvectors from np.linalg.eig:\n",
      "[[ 0.2260912  -0.84604119 -0.48280128]\n",
      " [ 0.6611152   0.49727948 -0.56181831]\n",
      " [-0.7154086   0.19216509 -0.6717612 ]]\n",
      "\n",
      "Eigenvectors difference: -1.3322676295501878e-15\n"
     ]
    }
   ],
   "source": [
    "print(f\"\\nEigenvalues from qr_shifts:\\n{eigs_qr}\")\n",
    "print(f\"Eigenvalues from np.linalg.eig:\\n{eigs_np}\")\n",
    "print(f\"\\nEigenvectors from qr_shifts:\\n{eigv_qr}\")\n",
    "print(f\"Eigenvectors from np.linalg.eig:\\n{eigv_np}\")\n",
    "\n",
    "print(f\"\\nEigenvectors difference: {np.linalg.norm(eigv_qr) - np.linalg.norm(eigv_np)}\")\n"
   ]
  },
  {
   "cell_type": "code",
   "execution_count": 48,
   "id": "473ec84e",
   "metadata": {},
   "outputs": [
    {
     "name": "stdout",
     "output_type": "stream",
     "text": [
      "[[ 4.60105826e-09  2.17472351e-09 -1.14667165e-11]\n",
      " [ 5.35408962e-09  6.28856145e-09 -1.33432154e-11]\n",
      " [ 6.40181597e-09 -6.82234624e-09 -1.59537383e-11]]\n",
      "\n",
      "[[-2.77555756e-16  0.00000000e+00 -2.22044605e-16]\n",
      " [-4.44089210e-16  1.66533454e-16  2.22044605e-16]\n",
      " [-6.66133815e-16  5.55111512e-17 -2.22044605e-16]]\n"
     ]
    }
   ],
   "source": [
    "es = np.array(eigs_qr)\n",
    "ev = np.array(eigv_qr)\n",
    "print(matrix @ ev - ev * es)\n",
    "print()\n",
    "print(matrix @ eigv_np - eigv_np * eigs_np)"
   ]
  }
 ],
 "metadata": {
  "kernelspec": {
   "display_name": "Python 3",
   "language": "python",
   "name": "python3"
  },
  "language_info": {
   "codemirror_mode": {
    "name": "ipython",
    "version": 3
   },
   "file_extension": ".py",
   "mimetype": "text/x-python",
   "name": "python",
   "nbconvert_exporter": "python",
   "pygments_lexer": "ipython3",
   "version": "3.9.0"
  }
 },
 "nbformat": 4,
 "nbformat_minor": 5
}
