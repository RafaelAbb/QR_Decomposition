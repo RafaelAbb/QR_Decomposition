{
 "cells": [
  {
   "cell_type": "code",
   "execution_count": 2,
   "metadata": {},
   "outputs": [],
   "source": [
    "import numpy as np\n",
    "import os\n"
   ]
  },
  {
   "cell_type": "code",
   "execution_count": 4,
   "metadata": {},
   "outputs": [
    {
     "name": "stdout",
     "output_type": "stream",
     "text": [
      "(100, 100)\n"
     ]
    },
    {
     "data": {
      "text/plain": [
       "array([[10., 43., 99., ..., 20., 38., 90.],\n",
       "       [39., 40., 24., ...,  3., 84., 12.],\n",
       "       [77., 31., 51., ..., 92., 89., 44.],\n",
       "       ...,\n",
       "       [91., 52., 85., ..., 30., 73., 71.],\n",
       "       [20., 75., 52., ..., 60., 92., 71.],\n",
       "       [81., 45.,  1., ..., 58., 45., 79.]])"
      ]
     },
     "execution_count": 4,
     "metadata": {},
     "output_type": "execute_result"
    }
   ],
   "source": [
    "current_path = os.getcwd()\n",
    "matrixname = \"matrix_100x100.csv\"\n",
    "filename = os.path.join(current_path, matrixname)\n",
    "matrix = np.genfromtxt(filename, delimiter=',')\n",
    "print(np.shape(matrix))\n",
    "matrix"
   ]
  },
  {
   "cell_type": "code",
   "execution_count": 3,
   "metadata": {},
   "outputs": [],
   "source": [
    "\n",
    "def compute_norm(v):\n",
    "    # Compute the norm of the vector v manually\n",
    "    # norm = 0\n",
    "    # for i in range(len(v)):\n",
    "    #     norm += v[i] * v[i]\n",
    "    # return np.sqrt(norm)\n",
    "    return np.sqrt(np.dot(v, v))\n",
    "\n",
    "def compute_dot(v1, v2):\n",
    "    # Compute the dot product of vectors v1 and v2 manually\n",
    "    # dot_product = 0\n",
    "    # for i in range(len(v1)):\n",
    "    #     dot_product += v1[i] * v2[i]\n",
    "    # return dot_product\n",
    "    return np.dot(v1, v2)\n",
    "\n",
    "def qr_decomposition(A):\n",
    "    # Assuming A is a square matrix\n",
    "    m, n = A.shape\n",
    "    Q = np.zeros((m, m))  # Initialize Q (orthogonal matrix)\n",
    "    R = np.zeros((m, n))  # Initialize R (upper triangular matrix)\n",
    "    \n",
    "    for j in range(n):\n",
    "        v = A[:, j]  # Take the j-th column of A\n",
    "        \n",
    "        # Orthonormalize v by projecting it onto the orthogonal complement of previous columns of Q\n",
    "        for i in range(j):\n",
    "            R[i, j] = np.dot(Q[:, i], v)  # R[i, j] is the projection coefficient\n",
    "            v -= R[i, j] * Q[:, i]  # Subtract the projection from v\n",
    "        \n",
    "        # Normalize v to get the next column of Q\n",
    "        R[j, j] = np.linalg.norm(v)  # The norm of v is the diagonal entry of R\n",
    "        Q[:, j] = v / R[j, j]  # Normalize v to get the j-th column of Q\n",
    "    \n",
    "    return Q, R\n",
    "\n",
    "\n",
    "def qr_algorithm(A, epsilon=1e-6, max_iter=1000):\n",
    "    iteration = 0\n",
    "    while iteration < max_iter:\n",
    "        # Perform QR decomposition\n",
    "        Q, R = qr_decomposition(A)\n",
    "        \n",
    "        # Update A for next iteration using @ (matrix multiplication)\n",
    "        A_new = R @ Q  # A_new = R * Q\n",
    "        \n",
    "        # Check for convergence (using Frobenius norm squared)\n",
    "        diff = np.linalg.norm(A_new - A)  # Efficient convergence check\n",
    "        if diff.any() < epsilon:\n",
    "            break\n",
    "        \n",
    "        A = A_new\n",
    "        iteration += 1\n",
    "\n",
    "    # Eigenvalues are the diagonal elements of A \n",
    "    eigenvalues = [A[i, i] for i in range(A.shape[0])] \n",
    "    \n",
    "    # Eigenvectors are the columns of Q after the last QR decomposition\n",
    "    eigenvectors = Q\n",
    "    \n",
    "    return eigenvalues, eigenvectors"
   ]
  },
  {
   "cell_type": "code",
   "execution_count": null,
   "metadata": {},
   "outputs": [],
   "source": [
    "eigenvalues, eigenvectors = qr_algorithm(matrix)\n",
    "\n",
    "# Print results\n",
    "print(\"Eigenvalues:\", eigenvalues)\n",
    "print(\"Eigenvectors:\")\n",
    "print(eigenvectors)"
   ]
  }
 ],
 "metadata": {
  "kernelspec": {
   "display_name": "Python 3",
   "language": "python",
   "name": "python3"
  },
  "language_info": {
   "codemirror_mode": {
    "name": "ipython",
    "version": 3
   },
   "file_extension": ".py",
   "mimetype": "text/x-python",
   "name": "python",
   "nbconvert_exporter": "python",
   "pygments_lexer": "ipython3",
   "version": "3.9.0"
  }
 },
 "nbformat": 4,
 "nbformat_minor": 2
}
